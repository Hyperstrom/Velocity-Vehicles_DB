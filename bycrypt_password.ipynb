{
 "cells": [
  {
   "cell_type": "code",
   "execution_count": 1,
   "metadata": {},
   "outputs": [
    {
     "name": "stdout",
     "output_type": "stream",
     "text": [
      "Collecting bcrypt\n",
      "  Downloading bcrypt-4.3.0-cp39-abi3-win_amd64.whl.metadata (10 kB)\n",
      "Downloading bcrypt-4.3.0-cp39-abi3-win_amd64.whl (152 kB)\n",
      "Installing collected packages: bcrypt\n",
      "Successfully installed bcrypt-4.3.0\n"
     ]
    }
   ],
   "source": [
    "!pip install bcrypt"
   ]
  },
  {
   "cell_type": "code",
   "execution_count": 6,
   "metadata": {},
   "outputs": [
    {
     "name": "stdout",
     "output_type": "stream",
     "text": [
      "Original Password: Aditya@7157\n",
      "BCrypt Strength (cost factor): 17\n",
      "\n",
      "Hashed Password: $2b$17$qhJASj0k0QL9ZXSloZ/r1u6xsnTrLE9bBZta8tpvZKM3FLqVsNslC\n",
      "'Aditya@7157' matches the hash. (Correct)\n",
      "'wrongPassword' does NOT match the hash. (Correct)\n",
      "\n",
      "Another Hashed Password: $2b$17$exZR3MiDRgpx6tQm0zCFW.RD8x4qabKbVKgr09iPz277RnA4DmLWC\n",
      "\n",
      "Demonstrating different hashes for the same password due to random salt:\n",
      "First hash of 'Aditya@7157': $2b$17$.BL0tHVP/.HrXVYTYvDFvuj9bbZITshNRC.phpOs.7mi0RvYGxZbG\n",
      "Second hash of 'Aditya@7157': $2b$17$asU6QVWqG5d6I0gqLp9kIetYvqGOQEPl0IHu7NhCpEc1eOfz5i9kW\n",
      "Do the hashes look identical? No (They should be different!)\n",
      "Does the first hash verify correctly? True\n",
      "Does the second hash verify correctly? True\n"
     ]
    }
   ],
   "source": [
    "import bcrypt\n",
    "\n",
    "def hash_password(password: str, strength: int = 17) -> bytes:\n",
    "    \"\"\"\n",
    "    Hashes a password using BCrypt with a specified strength (cost factor).\n",
    "\n",
    "    Args:\n",
    "        password: The plain-text password string to hash.\n",
    "        strength: The BCrypt cost factor (higher means more secure but slower).\n",
    "\n",
    "    Returns:\n",
    "        The hashed password as a bytes object.\n",
    "    \"\"\"\n",
    "    # Encode the password string to bytes (BCrypt works with bytes)\n",
    "    password_bytes = password.encode('utf-8')\n",
    "\n",
    "    # Generate a salt and hash the password.\n",
    "    # The 'strength' parameter corresponds to the 'rounds' or 'cost' factor.\n",
    "    # A higher number increases the computational cost, making it harder to brute-force.\n",
    "    hashed_password = bcrypt.hashpw(password_bytes, bcrypt.gensalt(rounds=strength))\n",
    "    return hashed_password\n",
    "\n",
    "def check_password(password: str, hashed_password: bytes) -> bool:\n",
    "    \"\"\"\n",
    "    Checks if a plain-text password matches a given BCrypt hashed password.\n",
    "\n",
    "    Args:\n",
    "        password: The plain-text password string to check.\n",
    "        hashed_password: The BCrypt hashed password (as bytes).\n",
    "\n",
    "    Returns:\n",
    "        True if the password matches the hash, False otherwise.\n",
    "    \"\"\"\n",
    "    # Encode the password string to bytes\n",
    "    password_bytes = password.encode('utf-8')\n",
    "\n",
    "    # Use checkpw to compare the plain-text password with the hash.\n",
    "    # bcrypt.checkpw handles the salt extraction and hashing internally.\n",
    "    return bcrypt.checkpw(password_bytes, hashed_password)\n",
    "\n",
    "if __name__ == \"__main__\":\n",
    "    # --- Example Usage ---\n",
    "    my_password = \"Aditya@7157\"\n",
    "    strength_factor = 17 # As requested, equivalent to Spring Boot's strength\n",
    "\n",
    "    print(f\"Original Password: {my_password}\")\n",
    "    print(f\"BCrypt Strength (cost factor): {strength_factor}\")\n",
    "\n",
    "    # 1. Hash the password\n",
    "    hashed = hash_password(my_password, strength=strength_factor)\n",
    "    print(f\"\\nHashed Password: {hashed.decode('utf-8')}\") # Decode for display\n",
    "\n",
    "    # 2. Verify the password (correct password)\n",
    "    correct_password_attempt = \"Aditya@7157\"\n",
    "    if check_password(correct_password_attempt, hashed):\n",
    "        print(f\"'{correct_password_attempt}' matches the hash. (Correct)\")\n",
    "    else:\n",
    "        print(f\"'{correct_password_attempt}' does NOT match the hash. (Incorrect)\")\n",
    "\n",
    "    # 3. Verify the password (incorrect password)\n",
    "    incorrect_password_attempt = \"wrongPassword\"\n",
    "    if check_password(incorrect_password_attempt, hashed):\n",
    "        print(f\"'{incorrect_password_attempt}' matches the hash. (Incorrect)\")\n",
    "    else:\n",
    "        print(f\"'{incorrect_password_attempt}' does NOT match the hash. (Correct)\")\n",
    "\n",
    "    # Demonstrate hashing a different password\n",
    "    another_password = \"anotherSecurePass\"\n",
    "    hashed_another = hash_password(another_password, strength=strength_factor)\n",
    "    print(f\"\\nAnother Hashed Password: {hashed_another.decode('utf-8')}\")\n",
    "\n",
    "    # Note: Each call to hash_password with the same input will produce a different hash\n",
    "    # because bcrypt.gensalt() generates a new random salt each time.\n",
    "    # However, check_password will correctly verify the original password against any of these hashes.\n",
    "    print(\"\\nDemonstrating different hashes for the same password due to random salt:\")\n",
    "    hashed_1 = hash_password(my_password, strength=strength_factor)\n",
    "    hashed_2 = hash_password(my_password, strength=strength_factor)\n",
    "    print(f\"First hash of '{my_password}': {hashed_1.decode('utf-8')}\")\n",
    "    print(f\"Second hash of '{my_password}': {hashed_2.decode('utf-8')}\")\n",
    "    print(f\"Do the hashes look identical? {'Yes' if hashed_1 == hashed_2 else 'No'} (They should be different!)\")\n",
    "    print(f\"Does the first hash verify correctly? {check_password(my_password, hashed_1)}\")\n",
    "    print(f\"Does the second hash verify correctly? {check_password(my_password, hashed_2)}\")"
   ]
  }
 ],
 "metadata": {
  "kernelspec": {
   "display_name": "Python 3",
   "language": "python",
   "name": "python3"
  },
  "language_info": {
   "codemirror_mode": {
    "name": "ipython",
    "version": 3
   },
   "file_extension": ".py",
   "mimetype": "text/x-python",
   "name": "python",
   "nbconvert_exporter": "python",
   "pygments_lexer": "ipython3",
   "version": "3.13.2"
  }
 },
 "nbformat": 4,
 "nbformat_minor": 2
}
