{
 "cells": [
  {
   "cell_type": "code",
   "execution_count": 1,
   "metadata": {},
   "outputs": [],
   "source": [
    "import numpy as np\n",
    "import matplotlib.pyplot as plt\n",
    "import pandas as pd\n",
    "import warnings\n",
    "warnings.filterwarnings('ignore')"
   ]
  },
  {
   "cell_type": "code",
   "execution_count": 2,
   "metadata": {},
   "outputs": [],
   "source": [
    "import configparser\n",
    "# Define DB credentials\n",
    "# Read database credentials from db.properties\n",
    "import mysql.connector\n",
    "config = configparser.ConfigParser()\n",
    "config.read('db.properties')\n",
    "\n",
    "db_config = {\n",
    "    'host': config.get('mysql', 'host'),\n",
    "    'user': config.get('mysql', 'user'),\n",
    "    'password': config.get('mysql', 'password')\n",
    "}"
   ]
  },
  {
   "cell_type": "code",
   "execution_count": 10,
   "metadata": {},
   "outputs": [],
   "source": [
    "# Connect to the MySQL database using db_config\n",
    "conn = mysql.connector.connect(\n",
    "    host=db_config['host'],\n",
    "    user=db_config['user'],\n",
    "    password=db_config['password'],\n",
    "    database='velocity_vehicles'\n",
    ")\n",
    "cursor = conn.cursor()"
   ]
  },
  {
   "cell_type": "code",
   "execution_count": 11,
   "metadata": {},
   "outputs": [
    {
     "name": "stdout",
     "output_type": "stream",
     "text": [
      "['Car_id', 'Brand_ID', 'DealerUsername', 'model', 'variant', 'Price_INR', 'Engine(CC)', 'Cylinders', 'Fuel_capacity', 'Fuel_type', 'Body_type', 'Mileage', 'Gears', 'Power_steering', 'Keyless_entry', 'Power(HP)', 'Torque(NM)', 'Seating_capacity', 'Transmission_type', 'warranty', 'Sun_visor', 'Ventilation_system', 'ABS', 'Airbags', 'Colour', 'Status']\n"
     ]
    }
   ],
   "source": [
    "# Fetch and print all column names of the 'cars' table\n",
    "cursor.execute(\"SHOW COLUMNS FROM cars\")\n",
    "columns = [row[0] for row in cursor.fetchall()]\n",
    "print(columns)"
   ]
  },
  {
   "cell_type": "code",
   "execution_count": 17,
   "metadata": {},
   "outputs": [
    {
     "name": "stdout",
     "output_type": "stream",
     "text": [
      "['car_brand', 'model', 'variant', 'Cylinders', 'Engine(CC)', 'Mileage', 'Fuel_type', 'Transmission_type', 'Price_INR', 'Body_type']\n",
      "new Car(\"Maruti Suzuki\", \"Ciaz\", \"1.5L Zeta Smart Hybrid\", 4, 1462, 21.56, \"Petrol\", \"Manual\", 958689.00, \"Sedan\"),\n",
      "new Car(\"Maruti Suzuki\", \"Swift\", \"Zdi\", 4, 1248, 25.2, \"Diesel\", \"Manual\", 757000.00, \"Hatchback\"),\n",
      "new Car(\"Maruti Suzuki\", \"Ertiga\", \"Zxi\", 4, 1462, 19.34, \"Petrol\", \"Manual\", 917000.00, \"MPV\"),\n",
      "new Car(\"Mercedes-Benz\", \"Mercedes-Benz Gls\", \"350 Cdi\", 6, 2987, 11.6, \"Diesel\", \"Automatic\", 8820000.00, \"SUV\"),\n",
      "new Car(\"Mahindra\", \"Kuv100 Nxt\", \"K4+ 6Str\", 3, 1198, 18.15, \"Petrol\", \"Manual\", 579645.00, \"Hatchback\"),\n",
      "new Car(\"Toyota\", \"Corolla Altis\", \"Vl At Petrol\", 4, 1798, 16.7, \"Petrol\", \"Automatic\", 2019000.00, \"Sedan\"),\n",
      "new Car(\"Maruti Suzuki\", \"Celerio X\", \"Vxi\", 3, 998, 23.1, \"Petrol\", \"Manual\", 475198.00, \"Hatchback\"),\n",
      "new Car(\"Ford\", \"Aspire\", \"1.2 Trend Plus Cng\", 4, 1194, 20.4, \"CNG\", \"Manual\", 758314.00, \"Sedan\"),\n",
      "new Car(\"Tata\", \"Zest\", \"Xe Diesel\", 4, 1248, 23.0, \"Diesel\", \"Manual\", 702946.00, \"Sedan\"),\n"
     ]
    }
   ],
   "source": [
    "query = \"\"\"\n",
    "SELECT b.car_brand, c.model, c.variant, c.Cylinders, c.`Engine(CC)`, c.Mileage, c.Fuel_type, c.Transmission_type, c.Price_INR, c.Body_type\n",
    "FROM cars c\n",
    "JOIN car_brands b ON c.Brand_ID = b.brand_id\n",
    "ORDER BY RAND()\n",
    "LIMIT 9\n",
    "\"\"\"\n",
    "\n",
    "cursor.execute(query)\n",
    "rows = cursor.fetchall()\n",
    "\n",
    "# Define the column names as per your table structure\n",
    "selected_columns = ['car_brand', 'model', 'variant', 'Cylinders', 'Engine(CC)', 'Mileage', 'Fuel_type', 'Transmission_type', 'Price_INR', 'Body_type']\n",
    "\n",
    "# Print the column headers\n",
    "print(selected_columns)\n",
    "\n",
    "# Print each row with values in the same order as columns\n",
    "for row in rows:\n",
    "    formatted = \"new Car\"+'(' + ', '.join(f'\"{item}\"' if isinstance(item, str) else str(item) for item in row) + '),'\n",
    "    print(formatted)"
   ]
  },
  {
   "cell_type": "code",
   "execution_count": null,
   "metadata": {},
   "outputs": [],
   "source": []
  },
  {
   "cell_type": "code",
   "execution_count": null,
   "metadata": {},
   "outputs": [],
   "source": []
  }
 ],
 "metadata": {
  "kernelspec": {
   "display_name": "Python 3",
   "language": "python",
   "name": "python3"
  },
  "language_info": {
   "codemirror_mode": {
    "name": "ipython",
    "version": 3
   },
   "file_extension": ".py",
   "mimetype": "text/x-python",
   "name": "python",
   "nbconvert_exporter": "python",
   "pygments_lexer": "ipython3",
   "version": "3.13.2"
  }
 },
 "nbformat": 4,
 "nbformat_minor": 2
}
