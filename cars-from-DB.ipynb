{
 "cells": [
  {
   "cell_type": "code",
   "execution_count": 1,
   "metadata": {},
   "outputs": [],
   "source": [
    "import numpy as np\n",
    "import matplotlib.pyplot as plt\n",
    "import pandas as pd\n",
    "import warnings\n",
    "warnings.filterwarnings('ignore')"
   ]
  },
  {
   "cell_type": "code",
   "execution_count": null,
   "metadata": {},
   "outputs": [],
   "source": [
    "import configparser\n",
    "# Define DB credentials\n",
    "# Read database credentials from db.properties\n",
    "import mysql.connector\n",
    "config = configparser.ConfigParser()\n",
    "config.read('db.properties')\n",
    "\n",
    "db_config = {\n",
    "    'host': config.get('mysql', 'host'),\n",
    "    'user': config.get('mysql', 'user'),\n",
    "    'password': config.get('mysql', 'password')\n",
    "}"
   ]
  },
  {
   "cell_type": "code",
   "execution_count": 3,
   "metadata": {},
   "outputs": [],
   "source": [
    "# Connect to the MySQL database using db_config\n",
    "conn = mysql.connector.connect(\n",
    "    host=db_config['host'],\n",
    "    user=db_config['user'],\n",
    "    password=db_config['password'],\n",
    "    database='velocity_vehicles'\n",
    ")\n",
    "cursor = conn.cursor()"
   ]
  },
  {
   "cell_type": "code",
   "execution_count": 4,
   "metadata": {},
   "outputs": [
    {
     "name": "stdout",
     "output_type": "stream",
     "text": [
      "Car_id: varchar(20)\n",
      "Brand_ID: varchar(20)\n",
      "DealerUsername: varchar(100)\n",
      "model: varchar(100)\n",
      "variant: varchar(100)\n",
      "Price_INR: decimal(15,2)\n",
      "Engine(CC): int\n",
      "Cylinders: int\n",
      "Fuel_capacity: int\n",
      "Fuel_type: varchar(100)\n",
      "Body_type: varchar(100)\n",
      "Mileage: float\n",
      "Gears: int\n",
      "Power_steering: varchar(100)\n",
      "Keyless_entry: tinyint(1)\n",
      "Power(HP): float\n",
      "Torque(NM): float\n",
      "Seating_capacity: int\n",
      "Transmission_type: varchar(100)\n",
      "warranty: int\n",
      "Sun_visor: tinyint(1)\n",
      "Ventilation_system: tinyint(1)\n",
      "ABS: tinyint(1)\n",
      "Airbags: tinyint(1)\n",
      "Colour: varchar(100)\n",
      "Status: varchar(20)\n"
     ]
    }
   ],
   "source": [
    "# Fetch and print all column names along with their SQL data types from the 'cars' table\n",
    "cursor.execute(\"SHOW COLUMNS FROM cars\")\n",
    "for col in cursor.fetchall():\n",
    "    print(f\"{col[0]}: {col[1]}\")"
   ]
  },
  {
   "cell_type": "code",
   "execution_count": 12,
   "metadata": {},
   "outputs": [
    {
     "name": "stdout",
     "output_type": "stream",
     "text": [
      "\"ASPB4AFE6\", \"Ford\", \"Aspire\", \"1.5 Tdci Blu\", \"D_LAKSHMIFOR001\", 842400.00, 1498, 4, 40, \"Diesel\", \"Sedan\", 26.1, 5, \"Electric Power\", true, 100.0, 215.0, 5, \"Manual\", 2, true, true, true, true, \"Blue\", \"Available\"\n",
      "\"KUV9B596A\", \"Mahindra\", \"Kuv100 Nxt\", \"K4+ 6Str\", \"D_SIVAKUMARMAH001\", 579645.00, 1198, 3, 35, \"Petrol\", \"Hatchback\", 18.15, 5, \"Electric Power\", true, 82.0, 115.0, 6, \"Manual\", 2, false, true, true, true, \"Red\", \"Available\"\n",
      "\"INN3FACDA\", \"Toyota\", \"Innova Crysta\", \"2.4 Vx 8 Str\", \"D_SENTHILTOY001\", 1932000.00, 2393, 4, 55, \"Diesel\", \"MUV\", 15.4, 5, \"Electric Power\", true, 150.0, 343.0, 8, \"Manual\", 3, true, true, true, true, \"Red\", \"Available\"\n",
      "\"CRE87FB16\", \"Hyundai\", \"Creta\", \"1.6 Vtvt Sx\", \"D_RAJESHHYU001\", 1232534.00, 1591, 4, 55, \"Petrol\", \"SUV\", 15.29, 6, \"Electric Power\", true, 123.0, 151.0, 5, \"Manual\", 3, true, true, true, true, \"Green\", \"Available\"\n",
      "\"KUV14AC69\", \"Mahindra\", \"Kuv100 Nxt\", \"K2 D 5Str Taxi\", \"D_SIVAKUMARMAH001\", 550155.00, 1198, 3, 35, \"Diesel\", \"Hatchback\", 25.32, 5, \"Electric Power\", true, 77.0, 190.0, 5, \"Manual\", 2, false, true, true, false, \"Blue\", \"Available\"\n",
      "\"AUR23B2F5\", \"Hyundai\", \"Aura\", \"Sx 1.2 Petrol\", \"D_RAJESHHYU001\", 729900.00, 1197, 4, 37, \"Petrol\", \"Sedan\", 20.5, 5, \"Electric Power\", true, 83.0, 114.0, 5, \"Manual\", 2, true, true, true, true, \"Gold\", \"Available\"\n",
      "\"BOL36C317\", \"Mahindra\", \"Bolero Power Plus\", \"Lx\", \"D_SIVAKUMARMAH001\", 749192.00, 1493, 4, 60, \"Diesel\", \"SUV\", 16.5, 5, \"Electric Power\", true, 70.0, 195.0, 7, \"Manual\", 3, true, true, true, true, \"Beige\", \"Available\"\n",
      "\"XUV496500\", \"Mahindra\", \"Xuv500\", \"W9 At\", \"D_SIVAKUMARMAH001\", 1710118.00, 2179, 4, 70, \"Diesel\", \"SUV\", 16.0, 6, \"Electric Power\", true, 155.0, 330.0, 7, \"Automatic\", 3, true, true, true, true, \"Beige\", \"Available\"\n",
      "\"GRA14E083\", \"Hyundai\", \"Grand I10 Prime\", \"Era T Crdi\", \"D_PRIYAHYU001\", 551530.00, 1120, 3, 43, \"Diesel\", \"Hatchback\", 24.0, 5, \"Electric Power\", true, 71.0, 16.3, 5, \"Manual\", 2, true, true, false, false, \"Brown\", \"Available\"\n",
      "\"GRAAA9EAD\", \"Hyundai\", \"Grand I10 Nios\", \"Sportz Amt 1.2 Vtvt\", \"D_PRIYAHYU001\", 703350.00, 1197, 4, 37, \"Petrol\", \"Hatchback\", 20.7, 5, \"Electric Power\", true, 83.0, 114.0, 5, \"Automatic\", 3, true, true, true, true, \"Maroon\", \"Available\"\n"
     ]
    }
   ],
   "source": [
    "query = \"\"\"\n",
    "SELECT c.Car_id, b.car_brand, c.model, c.variant, c.DealerUsername, c.Price_INR, c.`Engine(CC)`, c.Cylinders, c.Fuel_capacity, c.Fuel_type, c.Body_type, c.Mileage, c.Gears, c.Power_steering, c.Keyless_entry, c.`Power(HP)`, c.`Torque(NM)`, c.Seating_capacity, c.Transmission_type, c.warranty, c.Sun_visor, c.Ventilation_system, c.ABS, c.Airbags, c.Colour, c.Status\n",
    "FROM cars c\n",
    "JOIN car_brands b ON c.Brand_ID = b.brand_id\n",
    "ORDER BY RAND()\n",
    "LIMIT 10\n",
    "\"\"\"\n",
    "cursor.execute(query)\n",
    "rows = cursor.fetchall()\n",
    "\n",
    "for row in rows:\n",
    "    formatted_items = []\n",
    "    for item in row:\n",
    "        if item == 1:\n",
    "            formatted_items.append(\"true\")\n",
    "        elif item == 0:\n",
    "            formatted_items.append(\"false\")\n",
    "        elif isinstance(item, str):\n",
    "            formatted_items.append(f'\"{item}\"')\n",
    "        else:\n",
    "            formatted_items.append(str(item))\n",
    "    formatted = ', '.join(formatted_items)\n",
    "    print(formatted)"
   ]
  },
  {
   "cell_type": "code",
   "execution_count": 16,
   "metadata": {},
   "outputs": [
    {
     "name": "stdout",
     "output_type": "stream",
     "text": [
      "ASPB4AFE6 Ford Aspire 1.5 Tdci Blu\n",
      "KUV9B596A Mahindra Kuv100 Nxt K4+ 6Str\n",
      "INN3FACDA Toyota Innova Crysta 2.4 Vx 8 Str\n",
      "CRE87FB16 Hyundai Creta 1.6 Vtvt Sx\n",
      "KUV14AC69 Mahindra Kuv100 Nxt K2 D 5Str Taxi\n",
      "AUR23B2F5 Hyundai Aura Sx 1.2 Petrol\n",
      "BOL36C317 Mahindra Bolero Power Plus Lx\n",
      "XUV496500 Mahindra Xuv500 W9 At\n",
      "GRA14E083 Hyundai Grand I10 Prime Era T Crdi\n",
      "GRAAA9EAD Hyundai Grand I10 Nios Sportz Amt 1.2 Vtvt\n"
     ]
    }
   ],
   "source": [
    "for row in rows:\n",
    "    print(f\"{row[0]} {row[1]} {row[2]} {row[3]}\")"
   ]
  },
  {
   "cell_type": "code",
   "execution_count": 9,
   "metadata": {},
   "outputs": [
    {
     "name": "stdout",
     "output_type": "stream",
     "text": [
      "\"3-S570D53\", \"Bmw\", \"3-Series\", \"330I M Sport\", \"D_SURESHBMW001\", 4790000.00, 1998, 4, 59, \"Petrol\", \"Sedan\", 16.13, 8, \"Electric Power\", true, 258.0, 400.0, 5, \"Automatic\", 2, true, true, true, true, \"White\", \"Available\"\n",
      "\"3-S6E5AB7\", \"Bmw\", \"3-Series\", \"320D Luxury Line\", \"D_SURESHBMW001\", 4690000.00, 1995, 4, 40, \"Diesel\", \"Sedan\", 19.62, 8, \"Electric Power\", true, 190.0, 400.0, 5, \"Automatic\", 2, true, true, true, true, \"Maroon\", \"Available\"\n",
      "\"3-SE15211\", \"Bmw\", \"3-Series\", \"320D Sport\", \"D_SURESHBMW001\", 4140000.00, 1995, 4, 40, \"Diesel\", \"Sedan\", 19.62, 8, \"Electric Power\", true, 190.0, 400.0, 5, \"Automatic\", 2, true, true, true, true, \"Blue\", \"Available\"\n",
      "\"5-S39F673\", \"Bmw\", \"5-Series\", \"520D Luxury Line\", \"D_SHANTHIBMW001\", 5930000.00, 1995, 4, 70, \"Diesel\", \"Sedan\", 18.12, 8, \"Electric Power\", true, 190.0, 400.0, 5, \"Automatic\", 2, true, true, true, true, \"Green\", \"Available\"\n",
      "\"5-S489E79\", \"Bmw\", \"5-Series\", \"530D M Sport\", \"D_SHANTHIBMW001\", 6680000.00, 2993, 6, 70, \"Diesel\", \"Sedan\", 14.69, 8, \"Electric Power\", true, 258.0, 560.0, 5, \"Automatic\", 2, true, true, true, true, \"Black\", \"Available\"\n",
      "\"5-SBF7217\", \"Bmw\", \"5-Series\", \"530I M Sport\", \"D_SURESHBMW001\", 5980000.00, 1998, 6, 70, \"Petrol\", \"Sedan\", 15.01, 8, \"Electric Power\", true, 252.0, 350.0, 5, \"Automatic\", 2, true, true, true, true, \"Grey\", \"Available\"\n",
      "\"6-SDDB69A\", \"Bmw\", \"6-Series\", \"620D Gt Luxury Line\", \"D_SURESHBMW001\", 6440000.00, 1995, 4, 66, \"Diesel\", \"Sedan\", 21.76, 8, \"Electric Power\", true, 188.0, 400.0, 4, \"Automatic\", 2, true, true, true, true, \"Beige\", \"Sold out\"\n",
      "\"6-SE9AF42\", \"Bmw\", \"6-Series\", \"630I Gt Luxury Line\", \"D_SURESHBMW001\", 6440000.00, 4395, 8, 70, \"Petrol\", \"Coupe\", 7.94, 8, \"Electric Power\", true, 450.0, 209.0, 4, \"Automatic\", 2, true, true, false, true, \"Gold\", \"Available\"\n",
      "\"7-S1AC80D\", \"Bmw\", \"7-Series\", \"730Ld Design Pure Excellence\", \"D_SURESHBMW001\", 12290000.00, 2993, 6, 78, \"Diesel\", \"Sedan\", 17.66, 8, \"Hydraulic Power\", true, 265.0, 620.0, 4, \"Automatic\", 3, true, true, true, true, \"Purple\", \"Available\"\n",
      "\"7-S996267\", \"Bmw\", \"7-Series\", \"M760Li Xdrive\", \"D_SURESHBMW001\", 24250000.00, 6592, 12, 78, \"Petrol\", \"Sedan\", 7.96, 8, \"Hydraulic Power\", true, 609.0, 850.0, 4, \"Automatic\", 2, true, true, true, true, \"Green\", \"Available\"\n",
      "\"7-SBCB15B\", \"Bmw\", \"7-Series\", \"740Li Design Pure Excellence Signature\", \"D_SURESHBMW001\", 13510000.00, 2998, 6, 78, \"Petrol\", \"Sedan\", 11.86, 8, \"Hydraulic Power\", true, 340.0, 450.0, 4, \"Automatic\", 2, true, true, true, true, \"Blue\", \"Available\"\n",
      "\"7-SF1F2DA\", \"Bmw\", \"7-Series\", \"730Ld Design Pure Excellence Signature\", \"D_SHANTHIBMW001\", 13200000.00, 2993, 6, 78, \"Diesel\", \"Sedan\", 17.66, 8, \"Hydraulic Power\", true, 265.0, 620.0, 4, \"Automatic\", 3, true, true, true, true, \"Blue\", \"Available\"\n",
      "\"M2 744144\", \"Bmw\", \"M2 Competition\", \"Coupe\", \"D_SURESHBMW001\", 8180000.00, 2979, 6, 52, \"Petrol\", \"Coupe\", 10.0, 7, \"Electric Power\", true, 410.0, 550.0, 4, \"Automatic\", 2, true, true, true, true, \"Black\", \"Available\"\n",
      "\"M448BF09\", \"Bmw\", \"M4\", \"Coupe\", \"D_SHANTHIBMW001\", 13590000.00, 2979, 6, 60, \"Petrol\", \"Coupe\", 10.75, 7, \"Electric Power\", true, 431.0, 550.0, 4, \"Automatic\", 2, true, true, true, true, \"Pink\", \"Available\"\n",
      "\"M5FAFC5A\", \"Bmw\", \"M5\", \"Competition\", \"D_SHANTHIBMW001\", 15490000.00, 4395, 8, 68, \"Petrol\", \"Sedan\", 9.8, 8, \"Electric Power\", true, 625.0, 750.0, 4, \"Automatic\", 2, true, true, true, true, \"Maroon\", \"Available\"\n",
      "\"X1E487B7\", \"Bmw\", \"X1\", \"Sdrive20D M Sport\", \"D_SURESHBMW001\", 4240000.00, 1995, 4, 61, \"Diesel\", \"SUV\", 17.05, 8, \"Electric Power\", true, 187.0, 400.0, 5, \"Automatic\", 2, true, true, true, true, \"Gold\", \"Available\"\n",
      "\"X30545E9\", \"Bmw\", \"X3\", \"Xdrive 20D Luxury Line\", \"D_SURESHBMW001\", 5930000.00, 1995, 4, 67, \"Diesel\", \"SUV\", 18.56, 8, \"Electric Power\", true, 190.0, 400.0, 5, \"Automatic\", 2, true, true, true, true, \"Blue\", \"Available\"\n",
      "\"X3237D1E\", \"Bmw\", \"X3\", \"Xdrive20D Xline\", \"D_SHANTHIBMW001\", 5600000.00, 1995, 4, 67, \"Diesel\", \"SUV\", 18.56, 8, \"Electric Power\", true, 190.0, 400.0, 5, \"Automatic\", 2, true, true, true, true, \"Pink\", \"Available\"\n",
      "\"X3D243BE\", \"Bmw\", \"X3\", \"Xdrive 30I Luxury Line\", \"D_SHANTHIBMW001\", 5880000.00, 1998, 4, 67, \"Petrol\", \"SUV\", 18.56, 8, \"Electric Power\", true, 248.0, 350.0, 5, \"Automatic\", 2, true, true, true, true, \"Black\", \"Available\"\n",
      "\"X40DE6F1\", \"Bmw\", \"X4\", \"Xdrive30I M Sport X\", \"D_SHANTHIBMW001\", 6350000.00, 1998, 6, 68, \"Petrol\", \"SUV\", 13.32, 8, \"Electric Power\", true, 248.0, 350.0, 5, \"Automatic\", 2, true, true, true, true, \"Maroon\", \"Available\"\n",
      "\"X43AD2DC\", \"Bmw\", \"X4\", \"Xdrive30D M Sport X\", \"D_SURESHBMW001\", 6590000.00, 2993, 6, 68, \"Diesel\", \"SUV\", 16.4, 8, \"Electric Power\", true, 265.0, 620.0, 5, \"Automatic\", 2, true, true, true, true, \"Blue\", \"Available\"\n",
      "\"X51C20F3\", \"Bmw\", \"X5\", \"Xdrive40I M Sport\", \"D_SURESHBMW001\", 8290000.00, 2998, 6, 46, \"Petrol\", \"SUV\", 11.24, 8, \"Electric Power\", true, 340.0, 450.0, 5, \"Automatic\", 2, true, true, true, true, \"Purple\", \"Available\"\n"
     ]
    }
   ],
   "source": [
    "# Fetch and print 10 random BMW cars from the database\n",
    "query = \"\"\"\n",
    "SELECT c.Car_id, b.car_brand, c.model, c.variant, c.DealerUsername, c.Price_INR, c.`Engine(CC)`, c.Cylinders, c.Fuel_capacity, c.Fuel_type, c.Body_type, c.Mileage, c.Gears, c.Power_steering, c.Keyless_entry, c.`Power(HP)`, c.`Torque(NM)`, c.Seating_capacity, c.Transmission_type, c.warranty, c.Sun_visor, c.Ventilation_system, c.ABS, c.Airbags, c.Colour, c.Status\n",
    "FROM cars c\n",
    "JOIN car_brands b ON c.Brand_ID = b.brand_id\n",
    "WHERE b.car_brand = 'Bmw'\n",
    "\"\"\"\n",
    "cursor.execute(query)\n",
    "rows = cursor.fetchall()\n",
    "\n",
    "for row in rows:\n",
    "    formatted_items = []\n",
    "    for item in row:\n",
    "        if item == 1:\n",
    "            formatted_items.append(\"true\")\n",
    "        elif item == 0:\n",
    "            formatted_items.append(\"false\")\n",
    "        elif isinstance(item, str):\n",
    "            formatted_items.append(f'\"{item}\"')\n",
    "        else:\n",
    "            formatted_items.append(str(item))\n",
    "    formatted = ', '.join(formatted_items)\n",
    "    print(formatted)"
   ]
  },
  {
   "cell_type": "code",
   "execution_count": 21,
   "metadata": {},
   "outputs": [
    {
     "name": "stdout",
     "output_type": "stream",
     "text": [
      "Error downloading image for Maruti Suzuki Ciaz 1.5L Zeta Smart Hybrid: HTTPSConnectionPool(host='source.unsplash.com', port=443): Max retries exceeded with url: /800x450/?Maruti%20Suzuki,Ciaz,car,landscape (Caused by SSLError(SSLCertVerificationError(1, '[SSL: CERTIFICATE_VERIFY_FAILED] certificate verify failed: unable to get local issuer certificate (_ssl.c:1028)')))\n",
      "Error downloading image for Maruti Suzuki Swift Zdi: HTTPSConnectionPool(host='source.unsplash.com', port=443): Max retries exceeded with url: /800x450/?Maruti%20Suzuki,Swift,car,landscape (Caused by SSLError(SSLCertVerificationError(1, '[SSL: CERTIFICATE_VERIFY_FAILED] certificate verify failed: unable to get local issuer certificate (_ssl.c:1028)')))\n",
      "Error downloading image for Maruti Suzuki Ertiga Zxi: HTTPSConnectionPool(host='source.unsplash.com', port=443): Max retries exceeded with url: /800x450/?Maruti%20Suzuki,Ertiga,car,landscape (Caused by SSLError(SSLCertVerificationError(1, '[SSL: CERTIFICATE_VERIFY_FAILED] certificate verify failed: unable to get local issuer certificate (_ssl.c:1028)')))\n",
      "Error downloading image for Mercedes-Benz Mercedes-Benz Gls 350 Cdi: HTTPSConnectionPool(host='source.unsplash.com', port=443): Max retries exceeded with url: /800x450/?Mercedes-Benz,Mercedes-Benz%20Gls,car,landscape (Caused by SSLError(SSLCertVerificationError(1, '[SSL: CERTIFICATE_VERIFY_FAILED] certificate verify failed: unable to get local issuer certificate (_ssl.c:1028)')))\n",
      "Error downloading image for Mahindra Kuv100 Nxt K4+ 6Str: HTTPSConnectionPool(host='source.unsplash.com', port=443): Max retries exceeded with url: /800x450/?Mahindra,Kuv100%20Nxt,car,landscape (Caused by SSLError(SSLCertVerificationError(1, '[SSL: CERTIFICATE_VERIFY_FAILED] certificate verify failed: unable to get local issuer certificate (_ssl.c:1028)')))\n",
      "Error downloading image for Toyota Corolla Altis Vl At Petrol: HTTPSConnectionPool(host='source.unsplash.com', port=443): Max retries exceeded with url: /800x450/?Toyota,Corolla%20Altis,car,landscape (Caused by SSLError(SSLCertVerificationError(1, '[SSL: CERTIFICATE_VERIFY_FAILED] certificate verify failed: unable to get local issuer certificate (_ssl.c:1028)')))\n",
      "Error downloading image for Maruti Suzuki Celerio X Vxi: HTTPSConnectionPool(host='source.unsplash.com', port=443): Max retries exceeded with url: /800x450/?Maruti%20Suzuki,Celerio%20X,car,landscape (Caused by SSLError(SSLCertVerificationError(1, '[SSL: CERTIFICATE_VERIFY_FAILED] certificate verify failed: unable to get local issuer certificate (_ssl.c:1028)')))\n",
      "Error downloading image for Ford Aspire 1.2 Trend Plus Cng: HTTPSConnectionPool(host='source.unsplash.com', port=443): Max retries exceeded with url: /800x450/?Ford,Aspire,car,landscape (Caused by SSLError(SSLCertVerificationError(1, '[SSL: CERTIFICATE_VERIFY_FAILED] certificate verify failed: unable to get local issuer certificate (_ssl.c:1028)')))\n",
      "Error downloading image for Tata Zest Xe Diesel: HTTPSConnectionPool(host='source.unsplash.com', port=443): Max retries exceeded with url: /800x450/?Tata,Zest,car,landscape (Caused by SSLError(SSLCertVerificationError(1, '[SSL: CERTIFICATE_VERIFY_FAILED] certificate verify failed: unable to get local issuer certificate (_ssl.c:1028)')))\n"
     ]
    }
   ],
   "source": [
    "import requests\n",
    "import os\n",
    "\n",
    "# Directory to save images\n",
    "os.makedirs('car_images', exist_ok=True)\n",
    "\n",
    "# Use car brand, model, and variant to search for images\n",
    "for row in rows:\n",
    "    brand, model, variant = row[0], row[1], row[2]\n",
    "    search_query = f\"{brand} {model} {variant} car landscape\"\n",
    "    # Use Bing Image Search API or Unsplash API for real-world use\n",
    "    # Here, we'll use Unsplash's simple search URL for demonstration\n",
    "    # NOTE: For production, use API keys and proper API endpoints\n",
    "\n",
    "    # Construct Unsplash search URL (for demonstration, not for scraping)\n",
    "    search_url = f\"https://source.unsplash.com/800x450/?{brand},{model},car,landscape\"\n",
    "\n",
    "    try:\n",
    "        response = requests.get(search_url, timeout=10)\n",
    "        if response.status_code == 200:\n",
    "            filename = f\"{brand}_{model}_{variant}.jpg\".replace(\" \", \"_\")\n",
    "            with open(os.path.join('car_images', filename), 'wb') as f:\n",
    "                f.write(response.content)\n",
    "            print(f\"Downloaded: {filename}\")\n",
    "        else:\n",
    "            print(f\"Failed to download image for {brand} {model} {variant}\")\n",
    "    except Exception as e:\n",
    "        print(f\"Error downloading image for {brand} {model} {variant}: {e}\")"
   ]
  }
 ],
 "metadata": {
  "kernelspec": {
   "display_name": "Python 3",
   "language": "python",
   "name": "python3"
  },
  "language_info": {
   "codemirror_mode": {
    "name": "ipython",
    "version": 3
   },
   "file_extension": ".py",
   "mimetype": "text/x-python",
   "name": "python",
   "nbconvert_exporter": "python",
   "pygments_lexer": "ipython3",
   "version": "3.13.2"
  }
 },
 "nbformat": 4,
 "nbformat_minor": 2
}
