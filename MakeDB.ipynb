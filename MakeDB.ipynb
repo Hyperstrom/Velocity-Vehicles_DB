{
 "cells": [
  {
   "cell_type": "markdown",
   "metadata": {},
   "source": [
    "## Make the velocity vehicle DATABASE"
   ]
  },
  {
   "cell_type": "code",
   "execution_count": 1,
   "metadata": {},
   "outputs": [],
   "source": [
    "import configparser\n",
    "# Define DB credentials\n",
    "# Read database credentials from db.properties\n",
    "# %pip install mysql-connector-python\n",
    "import mysql.connector\n",
    "config = configparser.ConfigParser()\n",
    "config.read('db.properties')\n",
    "\n",
    "db_config = {\n",
    "    'host': config.get('mysql', 'host'),\n",
    "    'user': config.get('mysql', 'user'),\n",
    "    'password': config.get('mysql', 'password')\n",
    "}"
   ]
  },
  {
   "cell_type": "code",
   "execution_count": 4,
   "metadata": {},
   "outputs": [],
   "source": [
    "import pandas as pd"
   ]
  },
  {
   "cell_type": "code",
   "execution_count": 2,
   "metadata": {},
   "outputs": [],
   "source": [
    "# Connect to MySQL\n",
    "conn = mysql.connector.connect(**db_config)\n",
    "cursor = conn.cursor()"
   ]
  },
  {
   "cell_type": "code",
   "execution_count": null,
   "metadata": {},
   "outputs": [],
   "source": [
    "# Drop the schema if it exists\n",
    "cursor.execute(\"DROP DATABASE IF EXISTS Velocity_vehicles\")\n",
    "# Create the database\n",
    "cursor.execute(\"CREATE DATABASE IF NOT EXISTS Velocity_vehicles\")\n",
    "cursor.execute(\"USE Velocity_vehicles\")"
   ]
  },
  {
   "cell_type": "markdown",
   "metadata": {},
   "source": [
    "### make the car_brands table"
   ]
  },
  {
   "cell_type": "code",
   "execution_count": null,
   "metadata": {},
   "outputs": [],
   "source": [
    "# Drop the table if it exists\n",
    "cursor.execute(\"DROP TABLE IF EXISTS car_brands\")\n",
    "\n",
    "# Create the car_brands table\n",
    "cursor.execute(\"\"\"\n",
    "    CREATE TABLE car_brands (\n",
    "        brand_name VARCHAR(50) NOT NULL,\n",
    "        brand_id VARCHAR(255) PRIMARY KEY\n",
    "    )\n",
    "\"\"\")"
   ]
  },
  {
   "cell_type": "code",
   "execution_count": null,
   "metadata": {},
   "outputs": [],
   "source": [
    "# Read data from car_brands.xlsx and insert into car_brands table\n",
    "try:\n",
    "    df = pd.read_excel('.\\\\data\\\\car_brands.xlsx')\n",
    "    for _, row in df.iterrows():\n",
    "        try:\n",
    "            cursor.execute(\n",
    "                \"INSERT INTO car_brands (brand_name, brand_id) VALUES (%s, %s)\",\n",
    "                (row['make'], row['brand_id'])\n",
    "            )\n",
    "        except Exception as e:\n",
    "            print(f\"Error inserting row {row.to_dict()}: {e}\")\n",
    "    conn.commit()\n",
    "except FileNotFoundError:\n",
    "    print(\"Excel file not found. Please check the file path.\")\n",
    "except Exception as e:\n",
    "    print(f\"An error occurred: {e}\")"
   ]
  },
  {
   "cell_type": "markdown",
   "metadata": {},
   "source": [
    "### make the dealers table"
   ]
  },
  {
   "cell_type": "code",
   "execution_count": 69,
   "metadata": {},
   "outputs": [],
   "source": [
    "cursor.execute(\"DROP TABLE IF EXISTS dealers\")\n",
    "\n",
    "# Create the dealers table\n",
    "cursor.execute(\"\"\"\n",
    "    CREATE TABLE dealers (\n",
    "        name VARCHAR(100) NOT NULL,\n",
    "        brand_id VARCHAR(255),\n",
    "        password VARCHAR(255) NOT NULL,\n",
    "        email VARCHAR(100) NOT NULL UNIQUE,\n",
    "        phone VARCHAR(10) NOT NULL UNIQUE,\n",
    "        address VARCHAR(255) NOT NULL,\n",
    "        city VARCHAR(100) NOT NULL,\n",
    "        pincode INT NOT NULL,\n",
    "        age INT NOT NULL check ((age<=70) and (age>=18)),\n",
    "        gender VARCHAR(10) NOT NULL,\n",
    "        description TEXT NOT NULL,\n",
    "        username VARCHAR(100) PRIMARY KEY,\n",
    "        FOREIGN KEY (brand_id) REFERENCES car_brands(brand_id)\n",
    "    )\n",
    "\"\"\")"
   ]
  },
  {
   "cell_type": "code",
   "execution_count": 70,
   "metadata": {},
   "outputs": [],
   "source": [
    "# Read data from dealers.xlsx and insert into dealers table\n",
    "try:\n",
    "    df_dealers = pd.read_excel('.\\\\data\\\\dealers.xlsx')\n",
    "    for _, row in df_dealers.iterrows():\n",
    "        try:\n",
    "            cursor.execute(\n",
    "                \"\"\"\n",
    "                INSERT INTO dealers (\n",
    "                    name, brand_id, password, email, phone, address, city, pincode, age, gender, description, username\n",
    "                ) VALUES (\n",
    "                    %s, %s, %s, %s, %s, %s, %s, %s, %s, %s, %s, %s\n",
    "                )\n",
    "                \"\"\",\n",
    "                (\n",
    "                    row['Name'],\n",
    "                    row['Brand_ID'],\n",
    "                    row['password'],\n",
    "                    row['Email'],\n",
    "                    row['Phone'],\n",
    "                    row['Address'],\n",
    "                    row['City'],\n",
    "                    int(row['pincode']),\n",
    "                    int(row['Age']),\n",
    "                    row['gender'],\n",
    "                    row['description'],\n",
    "                    row['userName']\n",
    "                )\n",
    "            )\n",
    "        except Exception as e:\n",
    "            print(f\"Error inserting row {row.to_dict()}: {e}\")\n",
    "    conn.commit()\n",
    "except FileNotFoundError:\n",
    "    print(\"Excel file not found. Please check the file path.\")\n",
    "except Exception as e:\n",
    "    print(f\"An error occurred: {e}\")\n"
   ]
  },
  {
   "cell_type": "markdown",
   "metadata": {},
   "source": [
    "### make the Customer table"
   ]
  },
  {
   "cell_type": "code",
   "execution_count": 71,
   "metadata": {},
   "outputs": [],
   "source": [
    "# Drop the table if it exists\n",
    "cursor.execute(\"DROP TABLE IF EXISTS customers\")\n",
    "\n",
    "# Create the customers table\n",
    "cursor.execute(\"\"\"\n",
    "    CREATE TABLE customers (\n",
    "        name VARCHAR(100) NOT NULL,\n",
    "        password VARCHAR(100) NOT NULL,\n",
    "        email VARCHAR(100) NOT NULL UNIQUE,\n",
    "        phone VARCHAR(10) NOT NULL UNIQUE,\n",
    "        address VARCHAR(255) NOT NULL,\n",
    "        city VARCHAR(100) NOT NULL,\n",
    "        pincode INT NOT NULL,\n",
    "        gender VARCHAR(10) NOT NULL,\n",
    "        age INT check ((age<=70) and (age>=18)),\n",
    "        username VARCHAR(100) PRIMARY KEY\n",
    "    )\n",
    "\"\"\")"
   ]
  },
  {
   "cell_type": "code",
   "execution_count": 72,
   "metadata": {},
   "outputs": [],
   "source": [
    "# Read data from customers.xlsx and insert into customers table\n",
    "try:\n",
    "    df_customers = pd.read_excel('.\\\\data\\\\customers.xlsx')\n",
    "    for _, row in df_customers.iterrows():\n",
    "        try:\n",
    "            cursor.execute(\n",
    "                \"\"\"\n",
    "                INSERT INTO customers (\n",
    "                    name, password, email, phone, address, city, pincode, gender, age, username\n",
    "                ) VALUES (\n",
    "                    %s, %s, %s, %s, %s, %s, %s, %s, %s, %s\n",
    "                )\n",
    "                \"\"\",\n",
    "                (\n",
    "                    row['Name'],\n",
    "                    row['password'],\n",
    "                    row['Email'],\n",
    "                    str(row['Phone']),\n",
    "                    row['Address'],\n",
    "                    row['City'],\n",
    "                    int(row['Pincode']),\n",
    "                    row['Gender'],\n",
    "                    int(row['Age']),\n",
    "                    row['userName']\n",
    "                )\n",
    "            )\n",
    "        except Exception as e:\n",
    "            print(f\"Error inserting row {row.to_dict()}: {e}\")\n",
    "    conn.commit()\n",
    "except FileNotFoundError:\n",
    "    print(\"Excel file not found. Please check the file path.\")\n",
    "except Exception as e:\n",
    "    print(f\"An error occurred: {e}\")\n"
   ]
  },
  {
   "cell_type": "markdown",
   "metadata": {},
   "source": [
    "### cars table\n"
   ]
  },
  {
   "cell_type": "code",
   "execution_count": 73,
   "metadata": {
    "vscode": {
     "languageId": "sql"
    }
   },
   "outputs": [],
   "source": [
    "# Drop the cars table if it exists\n",
    "cursor.execute(\"DROP TABLE IF EXISTS cars\")\n",
    "\n",
    "# Create the cars table with boolean columns for the specified fields\n",
    "cursor.execute(\"\"\"\n",
    "    CREATE TABLE cars (\n",
    "        car_id VARCHAR(255) PRIMARY KEY,\n",
    "        brand_id VARCHAR(255),\n",
    "        dealer_username VARCHAR(100),\n",
    "        model VARCHAR(100) NOT NULL,\n",
    "        variant VARCHAR(100) NOT NULL,\n",
    "        rating INT,\n",
    "        price_inr DECIMAL(15, 2) NOT NULL,\n",
    "        engine_cc INT NOT NULL,\n",
    "        cylinders INT NOT NULL CHECK ((cylinders>=2) AND (cylinders<=8)),\n",
    "        fuel_capacity INT NOT NULL,\n",
    "        fuel_type VARCHAR(100) NOT NULL,\n",
    "        body_type VARCHAR(100) NOT NULL,\n",
    "        mileage FLOAT NOT NULL CHECK ((mileage>=7.8) AND (mileage<=45)),\n",
    "        gears INT NOT NULL CHECK ((gears>=4) AND (gears<=9)),\n",
    "        power_steering VARCHAR(100) NOT NULL,\n",
    "        keyless_entry BOOLEAN NOT NULL,\n",
    "        power_hp FLOAT NOT NULL,\n",
    "        torque_nm FLOAT NOT NULL,\n",
    "        seating_capacity INT NOT NULL CHECK ((seating_capacity>=2) AND (seating_capacity<=16)),\n",
    "        transmission_type VARCHAR(100) NOT NULL,\n",
    "        warranty INT NOT NULL,\n",
    "        sun_visor BOOLEAN NOT NULL,\n",
    "        ventilation_system BOOLEAN NOT NULL,\n",
    "        abs BOOLEAN NOT NULL,\n",
    "        airbags BOOLEAN NOT NULL,\n",
    "        colour VARCHAR(100) NOT NULL,\n",
    "        FOREIGN KEY (brand_id) REFERENCES car_brands(brand_id),\n",
    "        FOREIGN KEY (dealer_username) REFERENCES dealers(username)\n",
    "    )\n",
    "\"\"\")"
   ]
  },
  {
   "cell_type": "code",
   "execution_count": 74,
   "metadata": {},
   "outputs": [],
   "source": [
    "# Read data from cars.xlsx and insert into cars table\n",
    "try:\n",
    "    df_cars = pd.read_excel('.\\\\data\\\\cars.xlsx')\n",
    "    for _, row in df_cars.iterrows():\n",
    "        try:\n",
    "            cursor.execute(\n",
    "                \"\"\"\n",
    "                INSERT INTO cars (\n",
    "                    car_id, brand_id, dealer_username, model, variant,rating, price_inr, engine_cc, cylinders,\n",
    "                    fuel_capacity, fuel_type, body_type, mileage, gears, power_steering, keyless_entry,\n",
    "                    power_hp, torque_nm, seating_capacity, transmission_type, warranty, sun_visor,\n",
    "                    ventilation_system, abs, airbags, colour\n",
    "                ) VALUES (\n",
    "                    %s, %s, %s, %s, %s, %s,%s, %s, %s, %s, %s, %s, %s, %s, %s, %s, %s, %s, %s, %s, %s, %s, %s, %s, %s, %s\n",
    "                )\n",
    "                \"\"\",\n",
    "                (\n",
    "                    row['Car_id'],\n",
    "                    row['Brand_ID'],\n",
    "                    row['DealerUsername'],\n",
    "                    row['model'],\n",
    "                    row['variant'],\n",
    "                    row['rating'],\n",
    "                    float(row['Price_INR']),\n",
    "                    int(row['engine_cc']),\n",
    "                    int(row['Cylinders']),\n",
    "                    int(row['fuel_capacity']),\n",
    "                    row['Fuel_type'],\n",
    "                    row['Body_type'],\n",
    "                    float(row['mileage']),\n",
    "                    int(row['Gears']),\n",
    "                    row['Power_steering'],\n",
    "                    str(row['Keyless_entry']).lower() in ['true', '1', 'yes'],\n",
    "                    float(row['power_hp']),\n",
    "                    float(row['torque_nm']),\n",
    "                    int(row['Seating_capacity']),\n",
    "                    row['Transmission_type'],\n",
    "                    int(row['warranty']),\n",
    "                    str(row['Sun_visor']).lower() in ['true', '1', 'yes'],\n",
    "                    str(row['Ventilation_system']).lower() in ['true', '1', 'yes'],\n",
    "                    str(row['ABS']).lower() in ['true', '1', 'yes'],\n",
    "                    str(row['Airbags']).lower() in ['true', '1', 'yes'],\n",
    "                    row['color']\n",
    "                )\n",
    "            )\n",
    "        except Exception as e:\n",
    "            print(f\"Error inserting row {row.to_dict()}: {e}\")\n",
    "    conn.commit()\n",
    "except FileNotFoundError:\n",
    "    print(\"Excel file not found. Please check the file path.\")\n",
    "except Exception as e:\n",
    "    print(f\"An error occurred: {e}\")\n"
   ]
  },
  {
   "cell_type": "markdown",
   "metadata": {},
   "source": [
    "### make the sales table"
   ]
  },
  {
   "cell_type": "code",
   "execution_count": 75,
   "metadata": {},
   "outputs": [],
   "source": [
    "# Drop the sales table if it exists\n",
    "cursor.execute(\"DROP TABLE IF EXISTS sales\")\n",
    "\n",
    "# Create the sales table with the Date column and Car_ID as a foreign key to cars\n",
    "cursor.execute(\"\"\"\n",
    "    CREATE TABLE sales (\n",
    "        dealer_username VARCHAR(100),\n",
    "        customer_username VARCHAR(100),\n",
    "        brand_id VARCHAR(255),\n",
    "        car_id VARCHAR(255),\n",
    "        sales_id VARCHAR(20) PRIMARY KEY,\n",
    "        date DATETIME,\n",
    "        FOREIGN KEY (brand_id) REFERENCES car_brands(brand_id),\n",
    "        FOREIGN KEY (dealer_username) REFERENCES dealers(username),\n",
    "        FOREIGN KEY (customer_username) REFERENCES customers(username),\n",
    "        FOREIGN KEY (car_id) REFERENCES cars(car_id)\n",
    "    )\n",
    "\"\"\")"
   ]
  },
  {
   "cell_type": "code",
   "execution_count": 76,
   "metadata": {},
   "outputs": [],
   "source": [
    "try:\n",
    "    df_sales = pd.read_excel('.\\\\data\\\\sales.xlsx')\n",
    "    for _, row in df_sales.iterrows():\n",
    "        # Check if brand_id exists in car_brands\n",
    "        cursor.execute(\"SELECT 1 FROM car_brands WHERE brand_id = %s\", (row['brandId'],))\n",
    "        if cursor.fetchone() is None:\n",
    "            print(f\"Warning: brand_id '{row['brandId']}' does not exist in car_brands. Skipping row: {row.to_dict()}\")\n",
    "            continue\n",
    "        # Check if car_id exists in cars\n",
    "        cursor.execute(\"SELECT 1 FROM cars WHERE car_id = %s\", (row['CarId'],))\n",
    "        if cursor.fetchone() is None:\n",
    "            print(f\"Warning: car_id '{row['CarId']}' does not exist in cars. Skipping row: {row.to_dict()}\")\n",
    "            continue\n",
    "        # Check if dealer_username exists in dealers\n",
    "        cursor.execute(\"SELECT 1 FROM dealers WHERE username = %s\", (row['DealerUsername'],))\n",
    "        if cursor.fetchone() is None:\n",
    "            print(f\"Warning: dealer_username '{row['DealerUsername']}' does not exist in dealers. Skipping row: {row.to_dict()}\")\n",
    "            continue\n",
    "        # Check if customer_username exists in customers\n",
    "        cursor.execute(\"SELECT 1 FROM customers WHERE username = %s\", (row['customerUsername'],))\n",
    "        if cursor.fetchone() is None:\n",
    "            print(f\"Warning: customer_username '{row['customerUsername']}' does not exist in customers. Skipping row: {row.to_dict()}\")\n",
    "            continue\n",
    "        try:\n",
    "            cursor.execute(\n",
    "                \"\"\"\n",
    "                INSERT INTO sales (\n",
    "                    dealer_username, customer_username, brand_id, car_id, sales_id, date\n",
    "                ) VALUES (\n",
    "                    %s, %s, %s, %s, %s, %s\n",
    "                )\n",
    "                \"\"\",\n",
    "                (\n",
    "                    row['DealerUsername'],\n",
    "                    row['customerUsername'],\n",
    "                    row['brandId'],\n",
    "                    row['CarId'],\n",
    "                    row['sales_ID'],\n",
    "                    row['sales_date']\n",
    "                )\n",
    "            )\n",
    "        except Exception as e:\n",
    "            print(f\"Error inserting row {row.to_dict()}: {e}\")\n",
    "    conn.commit()\n",
    "except FileNotFoundError:\n",
    "    print(\"Excel file not found. Please check the file path.\")\n",
    "except Exception as e:\n",
    "    print(f\"An error occurred: {e}\")\n"
   ]
  },
  {
   "cell_type": "markdown",
   "metadata": {},
   "source": [
    "### add status column in the cars table"
   ]
  },
  {
   "cell_type": "code",
   "execution_count": 77,
   "metadata": {},
   "outputs": [
    {
     "name": "stdout",
     "output_type": "stream",
     "text": [
      "Status column updated in cars table.\n"
     ]
    }
   ],
   "source": [
    "# 1. Add the status column to the cars table if it doesn't exist\n",
    "try:\n",
    "    cursor.execute(\"ALTER TABLE cars ADD COLUMN status VARCHAR(20) DEFAULT 'AVAILABLE' NOT NULL\")\n",
    "except Exception as e:\n",
    "    # Ignore error if column already exists\n",
    "    if \"Duplicate column name\" not in str(e):\n",
    "        print(f\"Error adding status column: {e}\")\n",
    "\n",
    "# 2. Set all cars to 'Available' by default\n",
    "cursor.execute(\"UPDATE cars SET status = 'AVAILABLE'\")\n",
    "\n",
    "# 3. Update status to 'Sold' for cars present in the sales table\n",
    "cursor.execute(\"UPDATE cars SET status = 'SOLD' WHERE car_id IN (SELECT car_id FROM sales)\")\n",
    "\n",
    "# 4. Commit the changes\n",
    "conn.commit()\n",
    "print(\"Status column updated in cars table.\")"
   ]
  },
  {
   "cell_type": "markdown",
   "metadata": {},
   "source": [
    "### Some updates as per aditya said "
   ]
  },
  {
   "cell_type": "code",
   "execution_count": 80,
   "metadata": {},
   "outputs": [
    {
     "name": "stdout",
     "output_type": "stream",
     "text": [
      "All colours in the cars table have been converted to upper case.\n"
     ]
    }
   ],
   "source": [
    "# Update all colour values in the cars table to upper case\n",
    "cursor.execute(\"UPDATE cars SET colour = UPPER(colour)\")\n",
    "conn.commit()\n",
    "print(\"All colours in the cars table have been converted to upper case.\")"
   ]
  },
  {
   "cell_type": "code",
   "execution_count": 81,
   "metadata": {},
   "outputs": [
    {
     "name": "stdout",
     "output_type": "stream",
     "text": [
      "Image URL column added to cars table with default value.\n"
     ]
    }
   ],
   "source": [
    "cursor.execute(\"alter table cars add column car_image varchar(255) default 'https://formbuilder.ccavenue.com/live/uploads/company_image/488/17316704336156_Event-Image-Not-Found.jpg' not null\")\n",
    "conn.commit()\n",
    "print(\"Image URL column added to cars table with default value.\")"
   ]
  },
  {
   "cell_type": "code",
   "execution_count": 82,
   "metadata": {},
   "outputs": [
    {
     "name": "stdout",
     "output_type": "stream",
     "text": [
      "Profile image column added to dealers table with default value.\n"
     ]
    }
   ],
   "source": [
    "cursor.execute(\"alter table dealers add column profile_image varchar(255) default 'https://encrypted-tbn0.gstatic.com/images?q=tbn:ANd9GcS59s6qBOFlkS5LN4Z0U3G71nCWWg3SuHGVMw&s' not null\")\n",
    "conn.commit()\n",
    "print(\"Profile image column added to dealers table with default value.\")"
   ]
  },
  {
   "cell_type": "markdown",
   "metadata": {},
   "source": [
    "## After make the DB schema and the tables then run it differently no need to run the whole program from the start if you have the DB then update it with the next codes"
   ]
  },
  {
   "cell_type": "markdown",
   "metadata": {},
   "source": [
    "### set Profile images urls in dealer table"
   ]
  },
  {
   "cell_type": "code",
   "execution_count": 7,
   "metadata": {},
   "outputs": [],
   "source": [
    "cursor.execute(\"USE Velocity_vehicles\")"
   ]
  },
  {
   "cell_type": "code",
   "execution_count": 8,
   "metadata": {},
   "outputs": [
    {
     "name": "stdout",
     "output_type": "stream",
     "text": [
      "Updated profile_image for dealer 'D_ANJALITOY001' to 'https://res.cloudinary.com/dfecrk6wg/image/upload/v1750276554/dealer_images/D_ANJALITOY001.jpg'\n",
      "Updated profile_image for dealer 'D_ARUNTAT001' to 'https://res.cloudinary.com/dfecrk6wg/image/upload/v1750276555/dealer_images/D_ARUNTAT001.jpg'\n",
      "Updated profile_image for dealer 'D_ARUNTAT002' to 'https://res.cloudinary.com/dfecrk6wg/image/upload/v1750276556/dealer_images/D_ARUNTAT002.jpg'\n",
      "Updated profile_image for dealer 'D_ASHATAT001' to 'https://res.cloudinary.com/dfecrk6wg/image/upload/v1750276557/dealer_images/D_ASHATAT001.jpg'\n",
      "Updated profile_image for dealer 'D_BALAJITAT001' to 'https://res.cloudinary.com/dfecrk6wg/image/upload/v1750276557/dealer_images/D_BALAJITAT001.jpg'\n",
      "Updated profile_image for dealer 'D_DEEPAKMAR001' to 'https://res.cloudinary.com/dfecrk6wg/image/upload/v1750276558/dealer_images/D_DEEPAKMAR001.jpg'\n",
      "Updated profile_image for dealer 'D_DIVYATOY001' to 'https://res.cloudinary.com/dfecrk6wg/image/upload/v1750276559/dealer_images/D_DIVYATOY001.jpg'\n",
      "Updated profile_image for dealer 'D_GOPINATHMER001' to 'https://res.cloudinary.com/dfecrk6wg/image/upload/v1750276560/dealer_images/D_GOPINATHMER001.jpg'\n",
      "Updated profile_image for dealer 'D_HARISHHON001' to 'https://res.cloudinary.com/dfecrk6wg/image/upload/v1750276561/dealer_images/D_HARISHHON001.jpg'\n",
      "Updated profile_image for dealer 'D_KARTHIKFOR001' to 'https://res.cloudinary.com/dfecrk6wg/image/upload/v1750276562/dealer_images/D_KARTHIKFOR001.jpg'\n",
      "Updated profile_image for dealer 'D_KAVITHAHYU001' to 'https://res.cloudinary.com/dfecrk6wg/image/upload/v1750276562/dealer_images/D_KAVITHAHYU001.jpg'\n",
      "Updated profile_image for dealer 'D_LAKSHMIFOR001' to 'https://res.cloudinary.com/dfecrk6wg/image/upload/v1750276563/dealer_images/D_LAKSHMIFOR001.jpg'\n",
      "Updated profile_image for dealer 'D_MANOJFOR001' to 'https://res.cloudinary.com/dfecrk6wg/image/upload/v1750276564/dealer_images/D_MANOJFOR001.jpg'\n",
      "Updated profile_image for dealer 'D_MEERAMER001' to 'https://res.cloudinary.com/dfecrk6wg/image/upload/v1750276565/dealer_images/D_MEERAMER001.jpg'\n",
      "Updated profile_image for dealer 'D_NEHAMER001' to 'https://res.cloudinary.com/dfecrk6wg/image/upload/v1750276566/dealer_images/D_NEHAMER001.jpg'\n",
      "Updated profile_image for dealer 'D_POOJAMAR001' to 'https://res.cloudinary.com/dfecrk6wg/image/upload/v1750276566/dealer_images/D_POOJAMAR001.jpg'\n",
      "Updated profile_image for dealer 'D_PRAKASHBMW001' to 'https://res.cloudinary.com/dfecrk6wg/image/upload/v1750276567/dealer_images/D_PRAKASHBMW001.jpg'\n",
      "Updated profile_image for dealer 'D_PRIYAHYU001' to 'https://res.cloudinary.com/dfecrk6wg/image/upload/v1750276568/dealer_images/D_PRIYAHYU001.jpg'\n",
      "Updated profile_image for dealer 'D_RAJESHHYU001' to 'https://res.cloudinary.com/dfecrk6wg/image/upload/v1750276569/dealer_images/D_RAJESHHYU001.jpg'\n",
      "Updated profile_image for dealer 'D_RAMESHMAR001' to 'https://res.cloudinary.com/dfecrk6wg/image/upload/v1750276569/dealer_images/D_RAMESHMAR001.jpg'\n",
      "Updated profile_image for dealer 'D_REVATHIHON001' to 'https://res.cloudinary.com/dfecrk6wg/image/upload/v1750276570/dealer_images/D_REVATHIHON001.jpg'\n",
      "Updated profile_image for dealer 'D_RITUMAH001' to 'https://res.cloudinary.com/dfecrk6wg/image/upload/v1750276571/dealer_images/D_RITUMAH001.jpg'\n",
      "Updated profile_image for dealer 'D_SANJAYHYU001' to 'https://res.cloudinary.com/dfecrk6wg/image/upload/v1750276571/dealer_images/D_SANJAYHYU001.jpg'\n",
      "Updated profile_image for dealer 'D_SENTHILTOY001' to 'https://res.cloudinary.com/dfecrk6wg/image/upload/v1750276572/dealer_images/D_SENTHILTOY001.jpg'\n",
      "Updated profile_image for dealer 'D_SHANTHIBMW001' to 'https://res.cloudinary.com/dfecrk6wg/image/upload/v1750276573/dealer_images/D_SHANTHIBMW001.jpg'\n",
      "Updated profile_image for dealer 'D_SIVAKUMARMAH001' to 'https://res.cloudinary.com/dfecrk6wg/image/upload/v1750276573/dealer_images/D_SIVAKUMARMAH001.jpg'\n",
      "Updated profile_image for dealer 'D_SNEHAMAH001' to 'https://res.cloudinary.com/dfecrk6wg/image/upload/v1750276574/dealer_images/D_SNEHAMAH001.jpg'\n",
      "Updated profile_image for dealer 'D_SURESHBMW001' to 'https://res.cloudinary.com/dfecrk6wg/image/upload/v1750276574/dealer_images/D_SURESHBMW001.jpg'\n",
      "Updated profile_image for dealer 'D_VIDYAMAR001' to 'https://res.cloudinary.com/dfecrk6wg/image/upload/v1750276575/dealer_images/D_VIDYAMAR001.jpg'\n",
      "Updated profile_image for dealer 'D_VIJAYHON001' to 'https://res.cloudinary.com/dfecrk6wg/image/upload/v1750276576/dealer_images/D_VIJAYHON001.jpg'\n"
     ]
    }
   ],
   "source": [
    "# Read dealer images from Excel\n",
    "dealer_images_df = pd.read_excel('cloudinary_data/dealer_images.xlsx')\n",
    "\n",
    "# Ensure the profile_image column exists (if not, add it)\n",
    "try:\n",
    "    cursor.execute(\"\"\"\n",
    "        ALTER TABLE dealers \n",
    "        ADD COLUMN profile_image VARCHAR(255) \n",
    "        DEFAULT 'https://encrypted-tbn0.gstatic.com/images?q=tbn:ANd9GcS59s6qBOFlkS5LN4Z0U3G71nCWWg3SuHGVMw&s' NOT NULL\n",
    "    \"\"\")\n",
    "    conn.commit()\n",
    "except Exception as e:\n",
    "    if \"Duplicate column name\" not in str(e):\n",
    "        print(f\"Error altering dealers table: {e}\")\n",
    "\n",
    "# Update each dealer's profile_image based on username\n",
    "for _, row in dealer_images_df.iterrows():\n",
    "    dealer_username = row['Image Name']\n",
    "    image_url = row['Image URL']\n",
    "    cursor.execute(\n",
    "        \"UPDATE dealers SET profile_image = %s WHERE username = %s\",\n",
    "        (image_url, dealer_username)\n",
    "    )   \n",
    "    conn.commit()\n",
    "    print(f\"Updated profile_image for dealer '{dealer_username}' to '{image_url}'\")"
   ]
  },
  {
   "cell_type": "code",
   "execution_count": null,
   "metadata": {},
   "outputs": [],
   "source": []
  }
 ],
 "metadata": {
  "kernelspec": {
   "display_name": "Python 3",
   "language": "python",
   "name": "python3"
  },
  "language_info": {
   "codemirror_mode": {
    "name": "ipython",
    "version": 3
   },
   "file_extension": ".py",
   "mimetype": "text/x-python",
   "name": "python",
   "nbconvert_exporter": "python",
   "pygments_lexer": "ipython3",
   "version": "3.13.2"
  }
 },
 "nbformat": 4,
 "nbformat_minor": 2
}
